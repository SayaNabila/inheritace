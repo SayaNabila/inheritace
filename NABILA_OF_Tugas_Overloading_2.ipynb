{
  "nbformat": 4,
  "nbformat_minor": 0,
  "metadata": {
    "colab": {
      "provenance": [],
      "include_colab_link": true
    },
    "kernelspec": {
      "name": "python3",
      "display_name": "Python 3"
    },
    "language_info": {
      "name": "python"
    }
  },
  "cells": [
    {
      "cell_type": "markdown",
      "metadata": {
        "id": "view-in-github",
        "colab_type": "text"
      },
      "source": [
        "<a href=\"https://colab.research.google.com/github/SayaNabila/inheritace/blob/main/NABILA_OF_Tugas_Overloading_2.ipynb\" target=\"_parent\"><img src=\"https://colab.research.google.com/assets/colab-badge.svg\" alt=\"Open In Colab\"/></a>"
      ]
    },
    {
      "cell_type": "code",
      "execution_count": 10,
      "metadata": {
        "id": "5zCytCeM1uD4"
      },
      "outputs": [],
      "source": [
        "class nama:\n",
        "  def gabung(self, *args):\n",
        "    if (len(args) <= 4):\n",
        "      sum = \" \"\n",
        "      for num in args:\n",
        "          sum += num\n",
        "      print(sum)\n",
        "    else:\n",
        "          print(\" maksimum \")"
      ]
    },
    {
      "cell_type": "code",
      "source": [
        "#Buat main program\n",
        "hasil = nama()\n",
        "#Panggil fungsi untuk membuat nama lengkap 4 nama teman kalian\n",
        "hasil.gabung(\"firnanda \", \" nabila \", \" falesiya \")\n",
        "hasil.gabung(\"nia \", \"rahmadani \")\n",
        "hasil.gabung(\"ina \", \"latul \", \"laili \")\n",
        "hasil.gabung(\"lia \", \"fatikah \")"
      ],
      "metadata": {
        "id": "liQBcJWZ12MN",
        "colab": {
          "base_uri": "https://localhost:8080/"
        },
        "outputId": "c6a197b5-47d1-49eb-8600-9790c005db31"
      },
      "execution_count": 12,
      "outputs": [
        {
          "output_type": "stream",
          "name": "stdout",
          "text": [
            " firnanda  nabila  falesiya \n",
            " nia rahmadani \n",
            " ina latul laili \n",
            " lia fatikah \n"
          ]
        }
      ]
    },
    {
      "cell_type": "code",
      "source": [
        "1 #Tuliskan kesimpulan dari materi over loding menurut pemahaman anda!\n",
        "2 #menurut saya materri OVERLODING ini kita bisa membuat sebuah method yang bisa mengenal beberapa variasi jumlah parameter."
      ],
      "metadata": {
        "id": "xwFmppIG3JGE",
        "colab": {
          "base_uri": "https://localhost:8080/"
        },
        "outputId": "a15e18ee-d2d5-44da-82b7-77b8c3f22a06"
      },
      "execution_count": 13,
      "outputs": [
        {
          "output_type": "execute_result",
          "data": {
            "text/plain": [
              "2"
            ]
          },
          "metadata": {},
          "execution_count": 13
        }
      ]
    }
  ]
}